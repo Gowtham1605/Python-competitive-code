{
 "cells": [
  {
   "cell_type": "code",
   "execution_count": null,
   "id": "56729c46",
   "metadata": {},
   "outputs": [],
   "source": [
    "# To find factorial\n",
    "a = 5\n",
    "def fact(n):\n",
    "    if a < 0:\n",
    "        return 0\n",
    "    elif a == 1 or a ==0:\n",
    "        return 1\n",
    "    else:\n",
    "        return a * fact(n-1)\n",
    "b =  fact(a)\n",
    "print(b)"
   ]
  },
  {
   "cell_type": "code",
   "execution_count": null,
   "id": "b2ac7e53",
   "metadata": {},
   "outputs": [],
   "source": []
  }
 ],
 "metadata": {
  "kernelspec": {
   "display_name": "Python 3 (ipykernel)",
   "language": "python",
   "name": "python3"
  },
  "language_info": {
   "codemirror_mode": {
    "name": "ipython",
    "version": 3
   },
   "file_extension": ".py",
   "mimetype": "text/x-python",
   "name": "python",
   "nbconvert_exporter": "python",
   "pygments_lexer": "ipython3",
   "version": "3.9.13"
  }
 },
 "nbformat": 4,
 "nbformat_minor": 5
}
